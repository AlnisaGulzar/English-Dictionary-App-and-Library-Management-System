{
 "cells": [
  {
   "cell_type": "markdown",
   "id": "5d0be6f8",
   "metadata": {},
   "source": [
    "# English Dictionary app"
   ]
  },
  {
   "cell_type": "code",
   "execution_count": null,
   "id": "4e1198a0",
   "metadata": {},
   "outputs": [],
   "source": [
    "# Import the modules required\n",
    "import json\n",
    "from difflib import get_close_matches\n",
    "  \n",
    "# Loading data from json file\n",
    "# in python dictionary\n",
    "data = json.load(open(\"data.json\"))\n",
    "    \n",
    "def getMeaning(w):\n",
    "    w=w.lower()\n",
    "    if w in data:\n",
    "        return data[w]\n",
    "    elif len(get_close_matches(w,data.keys())) > 0:\n",
    "        close_match = get_close_matches(w,data.keys()) [0]\n",
    "        print(\"Did you mean % s instead? Enter Y if yes, or N if no:\"%close_match)\n",
    "        choice = input()\n",
    "        if choice == 'Y':\n",
    "            return data[close_match]\n",
    "        elif choice == 'n':\n",
    "            return \"The word doesn't exixts. Please double check it.\"\n",
    "        else:\n",
    "            return \"Sorry,we didn't understand your entry\"        \n",
    "    else:\n",
    "        return \"The word doesn't exixts. Please double check it.\"\n",
    "    if type (meaning) == list:\n",
    "        for item in meaning:\n",
    "            print(item)\n",
    "        else:\n",
    "            print(meaning)\n",
    "# Driver code\n",
    "word = input(\"Enter word: \")\n",
    "output = getMeaning(word)\n",
    "  \n",
    "if type(output) == list:\n",
    "    for item in output:\n",
    "        print(item)\n",
    "else:\n",
    "    print(output)\n",
    "input('Press ENTER to exit') "
   ]
  },
  {
   "cell_type": "markdown",
   "id": "05ad36c2",
   "metadata": {},
   "source": [
    "# Library Management System"
   ]
  },
  {
   "cell_type": "code",
   "execution_count": 1,
   "id": "18c4cf91",
   "metadata": {},
   "outputs": [],
   "source": [
    "from tkinter import *\n",
    "from sqlite3 import *\n",
    "import tkinter.ttk as ttk\n",
    "import tkinter.messagebox as tkMassgeBox"
   ]
  },
  {
   "cell_type": "code",
   "execution_count": 2,
   "id": "1a99af7e",
   "metadata": {},
   "outputs": [],
   "source": [
    "def Database():\n",
    "    global conn,cursor\n",
    "    conn=connect(\"Library.db\")\n",
    "    cursor=conn.cursor()\n",
    "    cursor.execute(\"CREATE TABLE IF NOT EXISTS lbms(author_name TEXT,book_title TEXT,year INTEGER,ISBN INTEGER)\")"
   ]
  },
  {
   "cell_type": "code",
   "execution_count": 3,
   "id": "3f13ecc2",
   "metadata": {},
   "outputs": [],
   "source": [
    "def display_all_records():\n",
    "    present.delete(*present.get_children())\n",
    "    Database()\n",
    "    cursor.execute(\"SELECT * FROM lbms ORDER by book_title ASC\")\n",
    "    fetch=cursor.fetchall()\n",
    "    for data in fetch:\n",
    "        present.insert('','end',values=(data[0],data[1],data[2],data[3]))\n",
    "    conn.close()\n",
    "    Ll1.config(text=\"Please see the books!\",fg=\"green\")"
   ]
  },
  {
   "cell_type": "code",
   "execution_count": 4,
   "id": "6f09aef0",
   "metadata": {},
   "outputs": [],
   "source": [
    "def add_new_book():\n",
    "    Database()\n",
    "    if author_name.get(1.0,\"end-1c\")!=\"\" and book_title.get(1.0,\"end-1c\")!=\"\" and year.get(1.0,\"end-1c\")!=\"\" and ISBN.get(1.0,\"end-1c\")!=\"\":\n",
    "        cursor.execute(\"INSERT INTO lbms VALUES(?,?,?,?)\",(author_name.get(1.0,\"end-1c\"),book_title.get(1.0,\"end-1c\"),int(year.get(1.0,\"end-1c\")),int(ISBN.get(1.0,\"end-1c\"))))\n",
    "        conn.commit()\n",
    "        delete()\n",
    "        conn.close()\n",
    "        Ll1.config(text=\"Book is added successfully!\",fg=\"green\")\n",
    "    else:\n",
    "        Ll1.config(text=\"Please enter all the values to add the book!\",fg=\"red\")\n",
    "        delete()"
   ]
  },
  {
   "cell_type": "code",
   "execution_count": 5,
   "id": "24957d23",
   "metadata": {},
   "outputs": [],
   "source": [
    "def Search_book():\n",
    "    present.delete(*present.get_children())\n",
    "    Database()\n",
    "    if str(author_name.get(1.0,\"end-1c\"))!=\"\":\n",
    "        name=\"'\"+str(author_name.get(1.0,\"end-1c\")).title()+\"'\"\n",
    "        temp=\"SELECT * FROM lbms WHERE author_name = \"+name\n",
    "        cursor.execute(temp)\n",
    "        fetch=cursor.fetchall()\n",
    "        for data in fetch:\n",
    "            present.insert('','end',values=(data[0],data[1],data[2],data[3]))\n",
    "        Ll1.config(text=\"Please see the books!\",fg=\"green\")\n",
    "    elif str(book_title.get(1.0,\"end-1c\"))!=\"\":\n",
    "        name=\"'\"+str(book_title.get(1.0,\"end-1c\")).title()+\"'\"\n",
    "        temp=\"SELECT * FROM lbms WHERE book_title = \"+name\n",
    "        cursor.execute(temp)\n",
    "        fetch=cursor.fetchall()\n",
    "        for data in fetch:\n",
    "            present.insert('','end',values=(data[0],data[1],data[2],data[3]))\n",
    "        Ll1.config(text=\"Please see the books!\",fg=\"green\")\n",
    "    elif str(year.get(1.0,\"end-1c\"))!=\"\":\n",
    "        temp=\"SELECT * FROM lbms WHERE year = \"+str(year.get(1.0,\"end-1c\"))\n",
    "        cursor.execute(temp)\n",
    "        fetch=cursor.fetchall()\n",
    "        for data in fetch:\n",
    "            present.insert('','end',values=(data[0],data[1],data[2],data[3]))\n",
    "        Ll1.config(text=\"Please see the books!\",fg=\"green\")\n",
    "    elif str(ISBN.get(1.0,\"end-1c\"))!=\"\":\n",
    "        temp=\"SELECT * FROM lbms WHERE ISBN = \"+str(ISBN.get(1.0,\"end-1c\"))\n",
    "        cursor.execute(temp)\n",
    "        fetch=cursor.fetchall()\n",
    "        for data in fetch:\n",
    "            present.insert('','end',values=(data[0],data[1],data[2],data[3]))\n",
    "        Ll1.config(text=\"Please see the books!\",fg=\"green\")\n",
    "    else:\n",
    "        Ll1.config(text=\"Please enter at least single identity!\",fg=\"red\")\n",
    "    delete()\n",
    "    conn.close()"
   ]
  },
  {
   "cell_type": "code",
   "execution_count": 6,
   "id": "cd2af28f",
   "metadata": {},
   "outputs": [],
   "source": [
    "def issue_the_book():\n",
    "    Database()\n",
    "    selected_item=present.selection()\n",
    "    if len(selected_item)>0:\n",
    "        present.delete(selected_item)\n",
    "        Ll1.config(text=\"Selected book is issued!\",fg=\"green\")\n",
    "    else:\n",
    "        Ll1.config(text=\"Please select a book from library to issue!\",fg=\"red\")\n",
    "    delete()\n",
    "    conn.close()"
   ]
  },
  {
   "cell_type": "code",
   "execution_count": 7,
   "id": "c9d7b47c",
   "metadata": {},
   "outputs": [],
   "source": [
    "def delete_book():\n",
    "    Database()\n",
    "    if author_name.get(1.0,\"end-1c\")==\"\" or book_title.get(1.0,\"end-1c\")==\"\" or year.get(1.0,\"end-1c\")==\"\" or ISBN.get(1.0,\"end-1c\")==\"\":\n",
    "        Ll1.config(text=\"Please enter all Entries!\",fg=\"red\")\n",
    "        delete()\n",
    "    else:\n",
    "        author='\"'+str(author_name.get(1.0,\"end-1c\"))+'\"'\n",
    "        book='\"'+str(book_title.get(1.0,\"end-1c\"))+'\"'\n",
    "        y=str(year.get(1.0,\"end-1c\"))\n",
    "        I=str(ISBN.get(1.0,\"end-1c\"))\n",
    "        temp=\"DELETE FROM lbms WHERE author_name LIKE \"+author+\" and book_title LIKE \"+book+\" and year = \"+y+\" and ISBN = \"+I\n",
    "        cursor.execute(temp)\n",
    "        conn.commit()\n",
    "        Ll1.config(text=\"Book deleted successfully!\",fg='green')\n",
    "        delete()\n",
    "    conn.close()"
   ]
  },
  {
   "cell_type": "code",
   "execution_count": 8,
   "id": "3ab9c9d0",
   "metadata": {},
   "outputs": [],
   "source": [
    "def delete():\n",
    "    author_name.delete(\"1.0\",\"end\")\n",
    "    book_title.delete(\"1.0\",\"end\")\n",
    "    year.delete(\"1.0\",\"end\")\n",
    "    ISBN.delete(\"1.0\",\"end\")"
   ]
  },
  {
   "cell_type": "code",
   "execution_count": 9,
   "id": "e3efff36",
   "metadata": {},
   "outputs": [],
   "source": [
    "def Exit():\n",
    "    result=tkMassgeBox.askquestion(\"Do you want to exit? (y/n)\",icon=\"warning\")\n",
    "    if result==\"yes\":\n",
    "        root.destroy()\n",
    "        exit()"
   ]
  },
  {
   "cell_type": "code",
   "execution_count": 10,
   "id": "3b305f31",
   "metadata": {},
   "outputs": [],
   "source": [
    "root=Tk()   \n",
    "root.geometry(\"900x400\")\n",
    "Top=Frame(root,width=900,height=50,bd=8,relief='raise')\n",
    "Top.pack(side=TOP)\n",
    "Left=Frame(root,width=300,height=500,bd=8,relief='raise')\n",
    "Left.pack(side=LEFT)\n",
    "Right=Frame(root,width=600,height=500,bd=8,relief='raise')\n",
    "Right.pack(side=RIGHT)\n",
    "\n",
    "inner_upper=Frame(Left,width=300,height=250,bd=8,relief=\"raise\")\n",
    "inner_upper.pack(side=TOP)\n",
    "\n"
   ]
  },
  {
   "cell_type": "code",
   "execution_count": 11,
   "id": "ba75f188",
   "metadata": {},
   "outputs": [],
   "source": [
    "L1=Label(Top,text=\" Library Book Management System \",font=(\"arial\",20))\n",
    "L1.pack()\n",
    "\n",
    "L2=Label(inner_upper,text=\"Author Name:\",font=(\"arial\",14))\n",
    "L3=Label(inner_upper,text=\"Book Name:\",font=(\"arial\",14))\n",
    "L4=Label(inner_upper,text=\"Published year:\",font=('arial',14))\n",
    "L5=Label(inner_upper,text=\"ISBN:\",font=('arial',14))"
   ]
  },
  {
   "cell_type": "code",
   "execution_count": 12,
   "id": "d13169f8",
   "metadata": {},
   "outputs": [],
   "source": [
    "author_name=Text(inner_upper,height=2,width=40)\n",
    "book_title=Text(inner_upper,height=2,width=40)\n",
    "year=Text(inner_upper,height=2,width=40)\n",
    "ISBN=Text(inner_upper,height=2,width=40)"
   ]
  },
  {
   "cell_type": "code",
   "execution_count": 13,
   "id": "6a275452",
   "metadata": {},
   "outputs": [],
   "source": [
    "L2.grid(row=0,column=0)\n",
    "author_name.grid(row=0,column=1)\n",
    "L3.grid(row=1,column=0)\n",
    "book_title.grid(row=1,column=1)\n",
    "L4.grid(row=2,column=0)\n",
    "year.grid(row=2,column=1)\n",
    "L5.grid(row=3,column=0)\n",
    "ISBN.grid(row=3,column=1)\n",
    "\n",
    "Ll1=Label(Right)\n",
    "Ll1.pack(side=BOTTOM)"
   ]
  },
  {
   "cell_type": "code",
   "execution_count": 14,
   "id": "07ffe90b",
   "metadata": {},
   "outputs": [],
   "source": [
    "inner_frame=Frame(Left,width=250,height=50,bd=8,relief='raise')\n",
    "inner_frame.pack(side=BOTTOM)"
   ]
  },
  {
   "cell_type": "code",
   "execution_count": 15,
   "id": "6f2af34f",
   "metadata": {},
   "outputs": [],
   "source": [
    "Bb1=Button(inner_frame,text=\"View Library\",command=display_all_records)\n",
    "Bb1.grid(row=0,column=0)"
   ]
  },
  {
   "cell_type": "code",
   "execution_count": 16,
   "id": "3f248d2b",
   "metadata": {},
   "outputs": [],
   "source": [
    "Bb2=Button(inner_frame,text=\"Search\",command=Search_book)\n",
    "Bb2.grid(row=0,column=1)\n"
   ]
  },
  {
   "cell_type": "code",
   "execution_count": 17,
   "id": "85ad3213",
   "metadata": {},
   "outputs": [],
   "source": [
    "Bb3=Button(inner_frame,text=\"Add New Book\",command=add_new_book)\n",
    "Bb3.grid(row=0,column=2)"
   ]
  },
  {
   "cell_type": "code",
   "execution_count": 18,
   "id": "68dcf7ca",
   "metadata": {},
   "outputs": [],
   "source": [
    "Bb4=Button(inner_frame,text=\"Issue the Book\",command=issue_the_book)\n",
    "Bb4.grid(row=0,column=3)"
   ]
  },
  {
   "cell_type": "code",
   "execution_count": 19,
   "id": "b6297cd8",
   "metadata": {},
   "outputs": [],
   "source": [
    "Bb5=Button(inner_frame,text=\"Delete the Book\",command=delete_book)\n",
    "Bb5.grid(row=0,column=4)"
   ]
  },
  {
   "cell_type": "code",
   "execution_count": 20,
   "id": "1e455f83",
   "metadata": {},
   "outputs": [],
   "source": [
    "Bb6=Button(inner_frame,text=\"Exit\",command=Exit)\n",
    "Bb6.grid(row=0,column=5)"
   ]
  },
  {
   "cell_type": "code",
   "execution_count": 21,
   "id": "36e622f4",
   "metadata": {},
   "outputs": [],
   "source": [
    "scrollbary=Scrollbar(Right,orient=VERTICAL)\n",
    "scrollbarx=Scrollbar(Right,orient=HORIZONTAL)"
   ]
  },
  {
   "cell_type": "code",
   "execution_count": 22,
   "id": "d3bd3deb",
   "metadata": {},
   "outputs": [],
   "source": [
    "present = ttk.Treeview(Right)"
   ]
  },
  {
   "cell_type": "code",
   "execution_count": 23,
   "id": "1799f890",
   "metadata": {},
   "outputs": [],
   "source": [
    "scrollbary.config(command=present.yview)\n",
    "scrollbary.pack(side=RIGHT,fill=Y)\n",
    "scrollbarx.config(command=present.xview)\n",
    "scrollbarx.pack(side=BOTTOM,fill=X)"
   ]
  },
  {
   "cell_type": "code",
   "execution_count": 24,
   "id": "891b6a49",
   "metadata": {},
   "outputs": [
    {
     "data": {
      "text/plain": [
       "{}"
      ]
     },
     "execution_count": 24,
     "metadata": {},
     "output_type": "execute_result"
    }
   ],
   "source": [
    "present['columns']=(\"Author Name\",\"Book Name\",\"Published year\",\"ISBN no\")\n",
    "present.column('#0', width=0, stretch=NO)\n",
    "present.column('Author Name', anchor=CENTER, width=100)\n",
    "present.column('Book Name', anchor=CENTER, width=100)\n",
    "present.column('Published year', anchor=CENTER, width=100)\n",
    "present.column('ISBN no', anchor=CENTER, width=100)"
   ]
  },
  {
   "cell_type": "code",
   "execution_count": null,
   "id": "64b3a595",
   "metadata": {},
   "outputs": [],
   "source": [
    "present.heading('#0', text='', anchor=CENTER)\n",
    "present.heading('Author Name', text='Author Name', anchor=CENTER)\n",
    "present.heading('Book Name', text='Book Name', anchor=CENTER)\n",
    "present.heading('Published year', text='Published year', anchor=CENTER)\n",
    "present.heading('ISBN no', text='ISBN no', anchor=CENTER)\n",
    "\n",
    "present.pack()\n",
    "root.mainloop()"
   ]
  },
  {
   "cell_type": "code",
   "execution_count": null,
   "id": "c5878659",
   "metadata": {},
   "outputs": [],
   "source": []
  },
  {
   "cell_type": "code",
   "execution_count": null,
   "id": "30e11bc9",
   "metadata": {},
   "outputs": [],
   "source": []
  }
 ],
 "metadata": {
  "kernelspec": {
   "display_name": "Python 3 (ipykernel)",
   "language": "python",
   "name": "python3"
  },
  "language_info": {
   "codemirror_mode": {
    "name": "ipython",
    "version": 3
   },
   "file_extension": ".py",
   "mimetype": "text/x-python",
   "name": "python",
   "nbconvert_exporter": "python",
   "pygments_lexer": "ipython3",
   "version": "3.9.7"
  }
 },
 "nbformat": 4,
 "nbformat_minor": 5
}
